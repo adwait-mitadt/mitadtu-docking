{
 "cells": [
  {
   "cell_type": "code",
   "execution_count": null,
   "id": "f050c617",
   "metadata": {},
   "outputs": [],
   "source": [
    "import numpy as np"
   ]
  }
 ],
 "metadata": {
  "language_info": {
   "name": "python"
  }
 },
 "nbformat": 4,
 "nbformat_minor": 5
}
